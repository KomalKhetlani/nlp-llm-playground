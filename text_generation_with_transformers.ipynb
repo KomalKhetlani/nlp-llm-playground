{
  "nbformat": 4,
  "nbformat_minor": 0,
  "metadata": {
    "colab": {
      "provenance": [],
      "gpuType": "T4"
    },
    "kernelspec": {
      "name": "python3",
      "display_name": "Python 3"
    },
    "language_info": {
      "name": "python"
    },
    "accelerator": "GPU",
    "widgets": {
      "application/vnd.jupyter.widget-state+json": {
        "01cb10f5e5124c1fa8b46deea88d7a6b": {
          "model_module": "@jupyter-widgets/controls",
          "model_name": "HBoxModel",
          "model_module_version": "1.5.0",
          "state": {
            "_dom_classes": [],
            "_model_module": "@jupyter-widgets/controls",
            "_model_module_version": "1.5.0",
            "_model_name": "HBoxModel",
            "_view_count": null,
            "_view_module": "@jupyter-widgets/controls",
            "_view_module_version": "1.5.0",
            "_view_name": "HBoxView",
            "box_style": "",
            "children": [
              "IPY_MODEL_a08d3112438d4f85bcbf39fcff72f965",
              "IPY_MODEL_dc75baffd2f246fa86e429f237ef60d4",
              "IPY_MODEL_94d7cf9d8baa45799a7f699b216a13d9"
            ],
            "layout": "IPY_MODEL_7e4c501d61e844abb78c6d2b3ee1f93e"
          }
        },
        "a08d3112438d4f85bcbf39fcff72f965": {
          "model_module": "@jupyter-widgets/controls",
          "model_name": "HTMLModel",
          "model_module_version": "1.5.0",
          "state": {
            "_dom_classes": [],
            "_model_module": "@jupyter-widgets/controls",
            "_model_module_version": "1.5.0",
            "_model_name": "HTMLModel",
            "_view_count": null,
            "_view_module": "@jupyter-widgets/controls",
            "_view_module_version": "1.5.0",
            "_view_name": "HTMLView",
            "description": "",
            "description_tooltip": null,
            "layout": "IPY_MODEL_f044a7eaf7674df894abdc830c970219",
            "placeholder": "​",
            "style": "IPY_MODEL_5a85e97e8f9844cc9ddef796e8780570",
            "value": "Loading checkpoint shards: 100%"
          }
        },
        "dc75baffd2f246fa86e429f237ef60d4": {
          "model_module": "@jupyter-widgets/controls",
          "model_name": "FloatProgressModel",
          "model_module_version": "1.5.0",
          "state": {
            "_dom_classes": [],
            "_model_module": "@jupyter-widgets/controls",
            "_model_module_version": "1.5.0",
            "_model_name": "FloatProgressModel",
            "_view_count": null,
            "_view_module": "@jupyter-widgets/controls",
            "_view_module_version": "1.5.0",
            "_view_name": "ProgressView",
            "bar_style": "success",
            "description": "",
            "description_tooltip": null,
            "layout": "IPY_MODEL_1249b38e5e9d48f9bf6a6b6755517400",
            "max": 2,
            "min": 0,
            "orientation": "horizontal",
            "style": "IPY_MODEL_7e748b23cdb1426bafd7e9da87505586",
            "value": 2
          }
        },
        "94d7cf9d8baa45799a7f699b216a13d9": {
          "model_module": "@jupyter-widgets/controls",
          "model_name": "HTMLModel",
          "model_module_version": "1.5.0",
          "state": {
            "_dom_classes": [],
            "_model_module": "@jupyter-widgets/controls",
            "_model_module_version": "1.5.0",
            "_model_name": "HTMLModel",
            "_view_count": null,
            "_view_module": "@jupyter-widgets/controls",
            "_view_module_version": "1.5.0",
            "_view_name": "HTMLView",
            "description": "",
            "description_tooltip": null,
            "layout": "IPY_MODEL_a0f9314b5e49431299891ed7d2383669",
            "placeholder": "​",
            "style": "IPY_MODEL_3ab8edf215a642148688465c1299d6c8",
            "value": " 2/2 [01:09&lt;00:00, 33.02s/it]"
          }
        },
        "7e4c501d61e844abb78c6d2b3ee1f93e": {
          "model_module": "@jupyter-widgets/base",
          "model_name": "LayoutModel",
          "model_module_version": "1.2.0",
          "state": {
            "_model_module": "@jupyter-widgets/base",
            "_model_module_version": "1.2.0",
            "_model_name": "LayoutModel",
            "_view_count": null,
            "_view_module": "@jupyter-widgets/base",
            "_view_module_version": "1.2.0",
            "_view_name": "LayoutView",
            "align_content": null,
            "align_items": null,
            "align_self": null,
            "border": null,
            "bottom": null,
            "display": null,
            "flex": null,
            "flex_flow": null,
            "grid_area": null,
            "grid_auto_columns": null,
            "grid_auto_flow": null,
            "grid_auto_rows": null,
            "grid_column": null,
            "grid_gap": null,
            "grid_row": null,
            "grid_template_areas": null,
            "grid_template_columns": null,
            "grid_template_rows": null,
            "height": null,
            "justify_content": null,
            "justify_items": null,
            "left": null,
            "margin": null,
            "max_height": null,
            "max_width": null,
            "min_height": null,
            "min_width": null,
            "object_fit": null,
            "object_position": null,
            "order": null,
            "overflow": null,
            "overflow_x": null,
            "overflow_y": null,
            "padding": null,
            "right": null,
            "top": null,
            "visibility": null,
            "width": null
          }
        },
        "f044a7eaf7674df894abdc830c970219": {
          "model_module": "@jupyter-widgets/base",
          "model_name": "LayoutModel",
          "model_module_version": "1.2.0",
          "state": {
            "_model_module": "@jupyter-widgets/base",
            "_model_module_version": "1.2.0",
            "_model_name": "LayoutModel",
            "_view_count": null,
            "_view_module": "@jupyter-widgets/base",
            "_view_module_version": "1.2.0",
            "_view_name": "LayoutView",
            "align_content": null,
            "align_items": null,
            "align_self": null,
            "border": null,
            "bottom": null,
            "display": null,
            "flex": null,
            "flex_flow": null,
            "grid_area": null,
            "grid_auto_columns": null,
            "grid_auto_flow": null,
            "grid_auto_rows": null,
            "grid_column": null,
            "grid_gap": null,
            "grid_row": null,
            "grid_template_areas": null,
            "grid_template_columns": null,
            "grid_template_rows": null,
            "height": null,
            "justify_content": null,
            "justify_items": null,
            "left": null,
            "margin": null,
            "max_height": null,
            "max_width": null,
            "min_height": null,
            "min_width": null,
            "object_fit": null,
            "object_position": null,
            "order": null,
            "overflow": null,
            "overflow_x": null,
            "overflow_y": null,
            "padding": null,
            "right": null,
            "top": null,
            "visibility": null,
            "width": null
          }
        },
        "5a85e97e8f9844cc9ddef796e8780570": {
          "model_module": "@jupyter-widgets/controls",
          "model_name": "DescriptionStyleModel",
          "model_module_version": "1.5.0",
          "state": {
            "_model_module": "@jupyter-widgets/controls",
            "_model_module_version": "1.5.0",
            "_model_name": "DescriptionStyleModel",
            "_view_count": null,
            "_view_module": "@jupyter-widgets/base",
            "_view_module_version": "1.2.0",
            "_view_name": "StyleView",
            "description_width": ""
          }
        },
        "1249b38e5e9d48f9bf6a6b6755517400": {
          "model_module": "@jupyter-widgets/base",
          "model_name": "LayoutModel",
          "model_module_version": "1.2.0",
          "state": {
            "_model_module": "@jupyter-widgets/base",
            "_model_module_version": "1.2.0",
            "_model_name": "LayoutModel",
            "_view_count": null,
            "_view_module": "@jupyter-widgets/base",
            "_view_module_version": "1.2.0",
            "_view_name": "LayoutView",
            "align_content": null,
            "align_items": null,
            "align_self": null,
            "border": null,
            "bottom": null,
            "display": null,
            "flex": null,
            "flex_flow": null,
            "grid_area": null,
            "grid_auto_columns": null,
            "grid_auto_flow": null,
            "grid_auto_rows": null,
            "grid_column": null,
            "grid_gap": null,
            "grid_row": null,
            "grid_template_areas": null,
            "grid_template_columns": null,
            "grid_template_rows": null,
            "height": null,
            "justify_content": null,
            "justify_items": null,
            "left": null,
            "margin": null,
            "max_height": null,
            "max_width": null,
            "min_height": null,
            "min_width": null,
            "object_fit": null,
            "object_position": null,
            "order": null,
            "overflow": null,
            "overflow_x": null,
            "overflow_y": null,
            "padding": null,
            "right": null,
            "top": null,
            "visibility": null,
            "width": null
          }
        },
        "7e748b23cdb1426bafd7e9da87505586": {
          "model_module": "@jupyter-widgets/controls",
          "model_name": "ProgressStyleModel",
          "model_module_version": "1.5.0",
          "state": {
            "_model_module": "@jupyter-widgets/controls",
            "_model_module_version": "1.5.0",
            "_model_name": "ProgressStyleModel",
            "_view_count": null,
            "_view_module": "@jupyter-widgets/base",
            "_view_module_version": "1.2.0",
            "_view_name": "StyleView",
            "bar_color": null,
            "description_width": ""
          }
        },
        "a0f9314b5e49431299891ed7d2383669": {
          "model_module": "@jupyter-widgets/base",
          "model_name": "LayoutModel",
          "model_module_version": "1.2.0",
          "state": {
            "_model_module": "@jupyter-widgets/base",
            "_model_module_version": "1.2.0",
            "_model_name": "LayoutModel",
            "_view_count": null,
            "_view_module": "@jupyter-widgets/base",
            "_view_module_version": "1.2.0",
            "_view_name": "LayoutView",
            "align_content": null,
            "align_items": null,
            "align_self": null,
            "border": null,
            "bottom": null,
            "display": null,
            "flex": null,
            "flex_flow": null,
            "grid_area": null,
            "grid_auto_columns": null,
            "grid_auto_flow": null,
            "grid_auto_rows": null,
            "grid_column": null,
            "grid_gap": null,
            "grid_row": null,
            "grid_template_areas": null,
            "grid_template_columns": null,
            "grid_template_rows": null,
            "height": null,
            "justify_content": null,
            "justify_items": null,
            "left": null,
            "margin": null,
            "max_height": null,
            "max_width": null,
            "min_height": null,
            "min_width": null,
            "object_fit": null,
            "object_position": null,
            "order": null,
            "overflow": null,
            "overflow_x": null,
            "overflow_y": null,
            "padding": null,
            "right": null,
            "top": null,
            "visibility": null,
            "width": null
          }
        },
        "3ab8edf215a642148688465c1299d6c8": {
          "model_module": "@jupyter-widgets/controls",
          "model_name": "DescriptionStyleModel",
          "model_module_version": "1.5.0",
          "state": {
            "_model_module": "@jupyter-widgets/controls",
            "_model_module_version": "1.5.0",
            "_model_name": "DescriptionStyleModel",
            "_view_count": null,
            "_view_module": "@jupyter-widgets/base",
            "_view_module_version": "1.2.0",
            "_view_name": "StyleView",
            "description_width": ""
          }
        }
      }
    }
  },
  "cells": [
    {
      "cell_type": "markdown",
      "source": [
        "**This notebook demonstrates how to load instruction-tuned models (like `Phi-3-mini`, `Falcon-7B-Instruct`) using the Hugging Face `transformers` library, create a text-generation pipeline, and experiment with prompts to generate human-like responses.**\n"
      ],
      "metadata": {
        "id": "d6oBOo9N44lw"
      }
    },
    {
      "cell_type": "code",
      "execution_count": null,
      "metadata": {
        "id": "6-wMv6Ba3e79"
      },
      "outputs": [],
      "source": [
        "\"\"\"Install required libraries\n",
        "We install Hugging Face's `transformers` (for pretrained NLP models)\n",
        "and `accelerate` (for efficient model loading on different hardware like CPU/GPU)\"\"\"\n",
        "!pip install transformers>=4.40.1 accelerate>=0.27.2"
      ]
    },
    {
      "cell_type": "code",
      "source": [
        "# Import the required classes from transformers\n",
        "from transformers import AutoModelForCausalLM, AutoTokenizer\n",
        "\n",
        "\"\"\"Load the model and tokenizer\n",
        "    - AutoModelForCausalLM: loads a pre-trained model for Causal Language Modeling (text generation).\n",
        "    - AutoTokenizer: loads the matching tokenizer (converts text to tokens and back).\n",
        "    - Here we are using Microsoft's \"microsoft/Phi-3-mini-4k-instruct\", a lightweight instruction-tuned model.\n",
        "    - device_map=\"cuda\": ensures the model runs on GPU if available.\n",
        "    - torch_dtype=\"auto\": lets PyTorch automatically select the best precision (e.g., float16/32).\n",
        "    - trust_remote_code=False: avoids running custom model code for security reasons.\"\"\"\n",
        "\n",
        "model = AutoModelForCausalLM.from_pretrained(\n",
        "    \"microsoft/Phi-3-mini-4k-instruct\",\n",
        "    device_map=\"cuda\",\n",
        "    torch_dtype=\"auto\",\n",
        "    trust_remote_code=False,\n",
        ")\n",
        "\n",
        "tokenizer = AutoTokenizer.from_pretrained(\"microsoft/Phi-3-mini-4k-instruct\")"
      ],
      "metadata": {
        "colab": {
          "base_uri": "https://localhost:8080/",
          "height": 49,
          "referenced_widgets": [
            "01cb10f5e5124c1fa8b46deea88d7a6b",
            "a08d3112438d4f85bcbf39fcff72f965",
            "dc75baffd2f246fa86e429f237ef60d4",
            "94d7cf9d8baa45799a7f699b216a13d9",
            "7e4c501d61e844abb78c6d2b3ee1f93e",
            "f044a7eaf7674df894abdc830c970219",
            "5a85e97e8f9844cc9ddef796e8780570",
            "1249b38e5e9d48f9bf6a6b6755517400",
            "7e748b23cdb1426bafd7e9da87505586",
            "a0f9314b5e49431299891ed7d2383669",
            "3ab8edf215a642148688465c1299d6c8"
          ]
        },
        "id": "mmt-imCm3uMK",
        "outputId": "bd051051-5cea-408d-e11a-472a412bbc22"
      },
      "execution_count": null,
      "outputs": [
        {
          "output_type": "display_data",
          "data": {
            "text/plain": [
              "Loading checkpoint shards:   0%|          | 0/2 [00:00<?, ?it/s]"
            ],
            "application/vnd.jupyter.widget-view+json": {
              "version_major": 2,
              "version_minor": 0,
              "model_id": "01cb10f5e5124c1fa8b46deea88d7a6b"
            }
          },
          "metadata": {}
        }
      ]
    },
    {
      "cell_type": "code",
      "source": [
        "# Import Hugging Face's high-level pipeline\n",
        "from transformers import pipeline\n",
        "\n",
        "\"\"\"Create a text generation pipeline\n",
        "  Why use pipeline?\n",
        "    - It abstracts away low-level details (tokenization, model forwarding, decoding).\n",
        "    - Easy to use: you just provide the model, tokenizer, and parameters.\n",
        "  Parameters explained:\n",
        "    - task=\"text-generation\": we want the model to generate text.\n",
        "    - return_full_text=False: ensures we only get the generated continuation, not the original prompt.\n",
        "    - max_new_tokens=500: limits how long the generated output can be.\n",
        "    - do_sample=False: disables randomness (deterministic output), good for reproducibility.\"\"\"\n",
        "\n",
        "generator = pipeline(\n",
        "    \"text-generation\",\n",
        "    model=model,\n",
        "    tokenizer=tokenizer,\n",
        "    return_full_text=False,\n",
        "    max_new_tokens=500,\n",
        "    do_sample=False\n",
        ")"
      ],
      "metadata": {
        "colab": {
          "base_uri": "https://localhost:8080/"
        },
        "id": "UEPjCLyh4Yg3",
        "outputId": "86c96e5e-ae2a-4834-eabf-dfee74a23c84"
      },
      "execution_count": null,
      "outputs": [
        {
          "output_type": "stream",
          "name": "stderr",
          "text": [
            "Device set to use cuda\n"
          ]
        }
      ]
    },
    {
      "cell_type": "code",
      "source": [
        "# Define the prompt (user query)\n",
        "messages = [\n",
        "    {\"role\": \"user\", \"content\": \"Summarize the importance of renewable energy in 3 bullet points.\"}\n",
        "]\n",
        "\n"
      ],
      "metadata": {
        "id": "zSPbNTK_4wVe"
      },
      "execution_count": null,
      "outputs": []
    },
    {
      "cell_type": "code",
      "source": [
        "\"\"\"Generate output from the model\n",
        "  - We pass the messages to the pipeline.\n",
        "  - The pipeline internally handles tokenization, model inference, and decoding.\n",
        "  - Response is returned as a list of dictionaries, where \"generated_text\" contains the response\"\"\"\n",
        "response = generator(messages)\n",
        "print(response[0][\"generated_text\"])"
      ],
      "metadata": {
        "colab": {
          "base_uri": "https://localhost:8080/"
        },
        "id": "0efKv5Rj4yK9",
        "outputId": "43071474-ecd6-4790-8b40-290663bce203"
      },
      "execution_count": null,
      "outputs": [
        {
          "output_type": "stream",
          "name": "stdout",
          "text": [
            " - Renewable energy sources, such as solar, wind, and hydro, are essential for reducing greenhouse gas emissions and combating climate change.\n",
            "- They provide a sustainable and inexhaustible supply of energy, reducing dependence on finite fossil fuels and enhancing energy security.\n",
            "- Investing in renewable energy technologies creates jobs, stimulates economic growth, and promotes innovation in the energy sector.\n"
          ]
        }
      ]
    },
    {
      "cell_type": "markdown",
      "source": [],
      "metadata": {
        "id": "Pdk10Sf340sS"
      }
    }
  ]
}