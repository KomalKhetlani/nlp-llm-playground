{
 "cells": [
  {
   "cell_type": "code",
   "execution_count": 1,
   "metadata": {
    "colab": {
     "base_uri": "https://localhost:8080/"
    },
    "executionInfo": {
     "elapsed": 627,
     "status": "ok",
     "timestamp": 1759750356821,
     "user": {
      "displayName": "Coco C",
      "userId": "10569321822159683379"
     },
     "user_tz": -330
    },
    "id": "1Ev5XwYlS2-l",
    "outputId": "a7e2af7a-1555-45c4-9f7e-fb31171b005c"
   },
   "outputs": [
    {
     "name": "stdout",
     "output_type": "stream",
     "text": [
      "Disabling notebook extension jupyter-js-widgets/extension...\n",
      "      - Validating: \u001b[32mOK\u001b[0m\n"
     ]
    }
   ],
   "source": [
    "!jupyter nbextension disable --py widgetsnbextension"
   ]
  },
  {
   "cell_type": "markdown",
   "metadata": {
    "id": "DbGgWLfnG5Ve"
   },
   "source": [
    "# **Sentence Similarity Experiment Using Embeddings**\n",
    "\n",
    "This notebook lets you compare any two sentences and calculates a semantic similarity score, showing how close their meanings are using pre-trained sentence embeddings.\n"
   ]
  },
  {
   "cell_type": "code",
   "execution_count": 2,
   "metadata": {
    "executionInfo": {
     "elapsed": 8333,
     "status": "ok",
     "timestamp": 1759750368543,
     "user": {
      "displayName": "Coco C",
      "userId": "10569321822159683379"
     },
     "user_tz": -330
    },
    "id": "h06sA0F1B7HF"
   },
   "outputs": [],
   "source": [
    "# Install the sentence-transformers library\n",
    "# - Provides pre-trained models to generate embeddings for sentences, paragraphs, or documents.\n",
    "# - Embeddings are numerical vector representations of text, capturing semantic meaning.\n",
    "\n",
    "!pip install -q sentence-transformers"
   ]
  },
  {
   "cell_type": "code",
   "execution_count": 3,
   "metadata": {
    "executionInfo": {
     "elapsed": 31154,
     "status": "ok",
     "timestamp": 1759750399698,
     "user": {
      "displayName": "Coco C",
      "userId": "10569321822159683379"
     },
     "user_tz": -330
    },
    "id": "C53ZG4HgCIf4"
   },
   "outputs": [],
   "source": [
    "# Import required libraries\n",
    "from sentence_transformers import SentenceTransformer\n",
    "from sklearn.metrics.pairwise import cosine_similarity\n",
    "import numpy as np"
   ]
  },
  {
   "cell_type": "code",
   "execution_count": 4,
   "metadata": {
    "colab": {
     "base_uri": "https://localhost:8080/",
     "height": 493,
     "referenced_widgets": [
      "9a63a9365dd04a0fbac944d662f043b6",
      "9a230a3b827a4b07909711161f8bdd95",
      "2fd2bb6d84b549f198ee3feb482526b6",
      "b60d6414e5fc4d6db9c0506f311b3088",
      "919aca91d2bf40caa07c106dab3369d4",
      "05271825e8524cbe9e9346be16f0c136",
      "e30debd5fd7249bf8b080ad1e6e17c9b",
      "2591f725b69a424b8827d458219591ae",
      "e58bc457dc48414fa02132c94e140a36",
      "1fca5bdd07dc4dbe87b5c81ac26c35a0",
      "ab38f7febbdf4a98b7e53913d893195a",
      "79ea79c14b5f4b5fa960093f3003844f",
      "23d73b0f3bc24545b019552d96714949",
      "9918441d98084fe1a82c7b01066b210f",
      "7c687097d4574ddc89ed99fbf21dd495",
      "d96199b9e7da44d9b07ff6d84f7f339a",
      "2360568b15924e93abb4b13c216864f2",
      "8fe5237fb4074b38b2fc9c28a0200e08",
      "7b52f564e7324d70a38d8df5ea4b862f",
      "ded49f316010406aab6c5322e5edda37",
      "e4091aab589248c4b1e4ebbc1891a108",
      "707829d389784d98ac32a6a5a5300e96",
      "533ba01d937b46f1a4038937358c5b8e",
      "64966fd4a02142d6a699009694931060",
      "0555efcc2ee9473e9b4784fb6cb5430d",
      "2635ee626d6e40a08ef90b4e7644470e",
      "187f22e543bb40f5a861594de816ff33",
      "f16468d00e62447c812abaaa13295e6d",
      "3f95c9643d2b44e993bee75dc93dd56f",
      "bd4e281e95cb4da884eb1319236c0f38",
      "2663ebe041164663a7d3627a257aa45d",
      "eaf6f189cd944bf18da31921e3cc0ad7",
      "9c5c290adac540bb88ea0f8bc19c8f2b",
      "369ec105b2d240f69a1c4a9e78f908a7",
      "3e50ba90cd58401c89fcf40706589920",
      "44037fd0e9704443bcd1fb5b83b48490",
      "00316d02f2f548c897bb6ee45c3b5dda",
      "e5819e785a614a57a24099a0fbc1d854",
      "86942200d5424bb39bd169463a4e2092",
      "2f5f7c20633d44c2b54db0889203d49d",
      "8b672bb62f7c43d8ba629bb1d7b47fe4",
      "f3f564e489cb42c280e50e9fd9c07a95",
      "7e13ebcc44c140a4a62c671dcdfd1cdf",
      "f0a5139290884e2c981ec602a89600a2",
      "e4289e1b93424f6bade27bea0b5e9ef3",
      "01db02f1e8f944c2a5aaf2572948865c",
      "b4081c0d35aa4eab8c80e3aba604f63d",
      "cf9c114fba3f4d5ba7ba5e52e9359765",
      "8f2bb2d63e2848e4ad75e40a20ac2d39",
      "ed0cc1cbab2149c98bd5dda5619f31e0",
      "2c8fc5a3f1ea457abf9054e898b0dffb",
      "26616bed0fd840bc93815330e9d283c5",
      "153d2ecf0927462a9cb25fb853b62068",
      "621e4e160126463c81273100c1baa757",
      "cf49dd79f4214af6900361b3c0156e42",
      "f1b5a30abe8343f7a651019c3da3864a",
      "a4488d34bda04851a856e3e0162bc596",
      "5310063fd1bc4eba984097cd3e98008f",
      "8dd336e6a903414d9a1d8b27c41f3640",
      "a779fbfad1a84db093f1818944c645e7",
      "52f0547aeb8e4de9b8fa0dd0f3023bea",
      "a67c0b9334b24677bfa34c003e22b1ea",
      "7839a9290b35483e8bf23afca181addd",
      "780f8051cc1041f28e96f8732684d6ca",
      "0b1249c3968642f3bc1b89c649996f46",
      "66b9b714326a4a2aa8421add0a53aff5",
      "dee969fc6dd24ac1b01a00a17d0ffb53",
      "fc8404d94d184391858912e47b22e94f",
      "c23143e824a7474a9f16076025707f90",
      "d986bf43fc124f13a724b5d83449b5c2",
      "1e899641bc3d4d4fa5dd826086ca8f23",
      "f787b791b48847d6946dca2ed430e144",
      "5a25fe0ed36f408e854f606d1304d057",
      "d67abf09486d4ae0bb13b66aba591fbb",
      "a5aec4f7579247418b66eed8a7206958",
      "444a6c2b3e1140fe84355b8361eb7e66",
      "7ae3fc408a414e3db5ee0dc26ad8b588",
      "ee71895b29ca44b2880f7a2f3d746e81",
      "8e7e8daba278467b9855c12b468e4bef",
      "9ec297a2d5ee4b7e97255ccde1854360",
      "12501a28da0847d3b99e6345c184547a",
      "35f22c468ddb438aa0ae57f7e8b64c5a",
      "0019500a441049e19815883d5c5e6604",
      "18c2aacc0c6e43b196335bbc5a167216",
      "81a90746379f4f0c80c6ea18503ae3f3",
      "e906fe2b67464743845c8b896163c2fc",
      "0f380ed3a9dd4fd28e8a2a64c4333ba7",
      "6533290f705a40679e9714df40f833b5",
      "c4e7230e8ec94bbf99932109c4e5e0b3",
      "9ee337088e914fb2b41c60db00d22454",
      "9c319da690614ec1b5dc4dc2f63e8f05",
      "c483e5cf05414b46a414819a99fa253d",
      "d31af5595c4c45e6aad20cab162d8702",
      "8d144c800175402a968bd2a296ed9575",
      "096d18199bf043e9b76bcc3c391b1aae",
      "4594c8427092410caf2067bc2de013a4",
      "c4adc1938e4a4460bd98e6f6133accdd",
      "a8408a43483344acb82ad5610330615d",
      "e45c4bb280584700b48729b5b08ceee1",
      "4ee50826eb75469ca4292d553e666837",
      "ee3af2c6301c4b2491bc4e134374c20b",
      "68df9c3cde3b4d52b518efd2028ccf84",
      "08c464e290d0464696f568fb2175e9fe",
      "9b29565c43d64c079f6d5f9aa4b25833",
      "9e7e8349c4ce4802b2fe89b2262b4fe8",
      "e7f27305d04c4661a4d9e6346537ae27",
      "50a99d57757a48e38c5a70431b3d7e7d",
      "24e5cf6339e741e3a497c4f7b6264315",
      "6bc98449301a44899b944e863c6cbc45",
      "9d41090107cd41a9b0573b746b15111f",
      "e7e114783bdc4065a692848e13291885",
      "99d07d4de69f40318294a64b84f045d1",
      "a8064744fa1e4736978f5b403a212821",
      "a81accfe9b0f42eda49737e71311a5a9",
      "21fc0361b54647768218c9c735e3b28a",
      "a3e61913cead45b681e5baf611d76ebf",
      "d3550d72d6454e3a9914d6ef0b132fe8",
      "f029cad989f847afa98c8fbcb3d32f96",
      "2356f1ac79834be5bb48aa05f5d35586",
      "d52550daf6e643bfa15d3d75d800a17c",
      "472ef24cb28541f899a732906da3e5ab"
     ]
    },
    "executionInfo": {
     "elapsed": 5023,
     "status": "ok",
     "timestamp": 1759750404666,
     "user": {
      "displayName": "Coco C",
      "userId": "10569321822159683379"
     },
     "user_tz": -330
    },
    "id": "-y3LGnCICM-V",
    "outputId": "33c4df5d-67c1-4132-a47c-fa761b1d23c6"
   },
   "outputs": [
    {
     "name": "stderr",
     "output_type": "stream",
     "text": [
      "/usr/local/lib/python3.12/dist-packages/huggingface_hub/utils/_auth.py:94: UserWarning: \n",
      "The secret `HF_TOKEN` does not exist in your Colab secrets.\n",
      "To authenticate with the Hugging Face Hub, create a token in your settings tab (https://huggingface.co/settings/tokens), set it as secret in your Google Colab and restart your session.\n",
      "You will be able to reuse this secret in all of your notebooks.\n",
      "Please note that authentication is recommended but still optional to access public models or datasets.\n",
      "  warnings.warn(\n"
     ]
    },
    {
     "data": {
      "application/vnd.jupyter.widget-view+json": {
       "model_id": "9a63a9365dd04a0fbac944d662f043b6",
       "version_major": 2,
       "version_minor": 0
      },
      "text/plain": [
       "modules.json:   0%|          | 0.00/349 [00:00<?, ?B/s]"
      ]
     },
     "metadata": {},
     "output_type": "display_data"
    },
    {
     "data": {
      "application/vnd.jupyter.widget-view+json": {
       "model_id": "79ea79c14b5f4b5fa960093f3003844f",
       "version_major": 2,
       "version_minor": 0
      },
      "text/plain": [
       "config_sentence_transformers.json:   0%|          | 0.00/116 [00:00<?, ?B/s]"
      ]
     },
     "metadata": {},
     "output_type": "display_data"
    },
    {
     "data": {
      "application/vnd.jupyter.widget-view+json": {
       "model_id": "533ba01d937b46f1a4038937358c5b8e",
       "version_major": 2,
       "version_minor": 0
      },
      "text/plain": [
       "README.md: 0.00B [00:00, ?B/s]"
      ]
     },
     "metadata": {},
     "output_type": "display_data"
    },
    {
     "data": {
      "application/vnd.jupyter.widget-view+json": {
       "model_id": "369ec105b2d240f69a1c4a9e78f908a7",
       "version_major": 2,
       "version_minor": 0
      },
      "text/plain": [
       "sentence_bert_config.json:   0%|          | 0.00/53.0 [00:00<?, ?B/s]"
      ]
     },
     "metadata": {},
     "output_type": "display_data"
    },
    {
     "data": {
      "application/vnd.jupyter.widget-view+json": {
       "model_id": "e4289e1b93424f6bade27bea0b5e9ef3",
       "version_major": 2,
       "version_minor": 0
      },
      "text/plain": [
       "config.json:   0%|          | 0.00/612 [00:00<?, ?B/s]"
      ]
     },
     "metadata": {},
     "output_type": "display_data"
    },
    {
     "data": {
      "application/vnd.jupyter.widget-view+json": {
       "model_id": "f1b5a30abe8343f7a651019c3da3864a",
       "version_major": 2,
       "version_minor": 0
      },
      "text/plain": [
       "model.safetensors:   0%|          | 0.00/90.9M [00:00<?, ?B/s]"
      ]
     },
     "metadata": {},
     "output_type": "display_data"
    },
    {
     "data": {
      "application/vnd.jupyter.widget-view+json": {
       "model_id": "dee969fc6dd24ac1b01a00a17d0ffb53",
       "version_major": 2,
       "version_minor": 0
      },
      "text/plain": [
       "tokenizer_config.json:   0%|          | 0.00/350 [00:00<?, ?B/s]"
      ]
     },
     "metadata": {},
     "output_type": "display_data"
    },
    {
     "data": {
      "application/vnd.jupyter.widget-view+json": {
       "model_id": "ee71895b29ca44b2880f7a2f3d746e81",
       "version_major": 2,
       "version_minor": 0
      },
      "text/plain": [
       "vocab.txt: 0.00B [00:00, ?B/s]"
      ]
     },
     "metadata": {},
     "output_type": "display_data"
    },
    {
     "data": {
      "application/vnd.jupyter.widget-view+json": {
       "model_id": "c4e7230e8ec94bbf99932109c4e5e0b3",
       "version_major": 2,
       "version_minor": 0
      },
      "text/plain": [
       "tokenizer.json: 0.00B [00:00, ?B/s]"
      ]
     },
     "metadata": {},
     "output_type": "display_data"
    },
    {
     "data": {
      "application/vnd.jupyter.widget-view+json": {
       "model_id": "4ee50826eb75469ca4292d553e666837",
       "version_major": 2,
       "version_minor": 0
      },
      "text/plain": [
       "special_tokens_map.json:   0%|          | 0.00/112 [00:00<?, ?B/s]"
      ]
     },
     "metadata": {},
     "output_type": "display_data"
    },
    {
     "data": {
      "application/vnd.jupyter.widget-view+json": {
       "model_id": "e7e114783bdc4065a692848e13291885",
       "version_major": 2,
       "version_minor": 0
      },
      "text/plain": [
       "config.json:   0%|          | 0.00/190 [00:00<?, ?B/s]"
      ]
     },
     "metadata": {},
     "output_type": "display_data"
    }
   ],
   "source": [
    "# Load a pre-trained sentence transformer model\n",
    "# 'all-MiniLM-L6-v2' is lightweight, fast, and effective for semantic similarity tasks.\n",
    "embed_model = SentenceTransformer('all-MiniLM-L6-v2')"
   ]
  },
  {
   "cell_type": "code",
   "execution_count": 5,
   "metadata": {
    "executionInfo": {
     "elapsed": 2,
     "status": "ok",
     "timestamp": 1759750404671,
     "user": {
      "displayName": "Coco C",
      "userId": "10569321822159683379"
     },
     "user_tz": -330
    },
    "id": "YUjKt3J3DMkH"
   },
   "outputs": [],
   "source": [
    "def compare_sentence_similarity(embed_model, sent1, sent2):\n",
    "  \"\"\"\n",
    "    Compute the semantic similarity between two sentences using embeddings.\n",
    "\n",
    "    Args:\n",
    "        embed_model (SentenceTransformer): Pre-trained sentence transformer model.\n",
    "        sent1 (str): First sentence to compare.\n",
    "        sent2 (str): Second sentence to compare.\n",
    "\n",
    "    Returns:\n",
    "        float: Similarity percentage between 0 and 100.\n",
    "\n",
    "    Steps:\n",
    "        1. Encode each sentence into embeddings.\n",
    "        2. Compute cosine similarity between embeddings.\n",
    "        3. Convert the similarity score to a percentage.\n",
    "    \"\"\"\n",
    "  # Step 1: Generate embeddings for both sentences\n",
    "  emb1 = embed_model.encode([sent1])\n",
    "  emb2 = embed_model.encode([sent2])\n",
    "  # Step 2: Compute cosine similarity between embeddings\n",
    "  sim_score = cosine_similarity(emb1, emb2)[0][0]\n",
    "  # Step 3: Convert similarity to percentage\n",
    "  similarity_percentage = sim_score * 100\n",
    "  return similarity_percentage\n"
   ]
  },
  {
   "cell_type": "code",
   "execution_count": 6,
   "metadata": {
    "executionInfo": {
     "elapsed": 2,
     "status": "ok",
     "timestamp": 1759750404672,
     "user": {
      "displayName": "Coco C",
      "userId": "10569321822159683379"
     },
     "user_tz": -330
    },
    "id": "GRXboRoHD9my"
   },
   "outputs": [],
   "source": [
    "def interpret_similarity_score(sim_percentage):\n",
    "  \"\"\"\n",
    "    Interpret a similarity score as a human-readable message.\n",
    "\n",
    "    Args:\n",
    "        sim_percentage (float): Similarity score in percentage (0-100).\n",
    "\n",
    "    Returns:\n",
    "        str: Message describing how similar the sentences are.\n",
    "\n",
    "    Thresholds:\n",
    "        >95%  : Highly similar\n",
    "        70-95%: Somewhat similar\n",
    "        <70%  : Not similar\n",
    "    \"\"\"\n",
    "  if sim_percentage > 95:\n",
    "    return \"The sentences are highly similar in meaning.\"\n",
    "  elif sim_percentage > 70:\n",
    "    return \"The sentences are somewhat similar.\"\n",
    "  else:\n",
    "    return \"The sentences are not similar.\"\n"
   ]
  },
  {
   "cell_type": "code",
   "execution_count": 7,
   "metadata": {
    "colab": {
     "base_uri": "https://localhost:8080/"
    },
    "executionInfo": {
     "elapsed": 27047,
     "status": "ok",
     "timestamp": 1759750431718,
     "user": {
      "displayName": "Coco C",
      "userId": "10569321822159683379"
     },
     "user_tz": -330
    },
    "id": "iON5yWNLEWMr",
    "outputId": "807b03ed-8ac8-430e-fd79-e91ea9624309"
   },
   "outputs": [
    {
     "name": "stdout",
     "output_type": "stream",
     "text": [
      "Enter the first sentence: The dog is happy\n",
      "Enter the second sentence: The cat is sad\n",
      "Result = \n",
      "The sentences are not similar.\n",
      "Similarity Score = 46.06%\n"
     ]
    }
   ],
   "source": [
    "# Interactive user input\n",
    "# Prompt the user to enter two sentences for comparison\n",
    "sentence1 = input(\"Enter the first sentence: \")\n",
    "sentence2 = input(\"Enter the second sentence: \")\n",
    "\n",
    "# Compute similarity score\n",
    "similarity_score = compare_sentence_similarity(embed_model,sentence1, sentence2)\n",
    "# Interpret the similarity score\n",
    "are_they_similar = interpret_similarity_score(similarity_score)\n",
    "# Display results\n",
    "print(\"Result = \")\n",
    "print(are_they_similar)\n",
    "print(\"Similarity Score = {:.2f}%\".format(similarity_score))\n"
   ]
  },
  {
   "cell_type": "code",
   "execution_count": 7,
   "metadata": {
    "executionInfo": {
     "elapsed": 1,
     "status": "ok",
     "timestamp": 1759750431719,
     "user": {
      "displayName": "Coco C",
      "userId": "10569321822159683379"
     },
     "user_tz": -330
    },
    "id": "UoXHB9H_Ehpp"
   },
   "outputs": [],
   "source": []
  },
  {
   "cell_type": "code",
   "execution_count": null,
   "metadata": {
    "id": "M50b-ELAEj81"
   },
   "outputs": [],
   "source": []
  }
 ],
 "metadata": {
  "colab": {
   "authorship_tag": "ABX9TyP3P0YrqFON99+ADBObR37/",
   "provenance": []
  },
  "kernelspec": {
   "display_name": "Python 3",
   "name": "python3"
  },
  "language_info": {
   "name": "python"
  }
 },
 "nbformat": 4,
 "nbformat_minor": 0
}
